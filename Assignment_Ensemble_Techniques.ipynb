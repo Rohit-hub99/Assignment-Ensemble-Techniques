{
  "nbformat": 4,
  "nbformat_minor": 0,
  "metadata": {
    "colab": {
      "provenance": []
    },
    "kernelspec": {
      "name": "python3",
      "display_name": "Python 3"
    },
    "language_info": {
      "name": "python"
    }
  },
  "cells": [
    {
      "cell_type": "markdown",
      "source": [
        "Theoretical Questions and Answers"
      ],
      "metadata": {
        "id": "8IiTpxDhNdEP"
      }
    },
    {
      "cell_type": "markdown",
      "source": [
        "# 1. Can we use Bagging for regression problems ?\n",
        "  - Yes, Bagging can be used for regression problems (e.g., using BaggingRegressor in scikit-learn).\n",
        "\n",
        "\n",
        "# 2. What is the difference between multiple model training and single model training ?\n",
        "  - Single model training uses one algorithm to learn from the data.\n",
        "\n",
        "  - Multiple model training (Ensemble) combines predictions from multiple models to improve accuracy, stability, and generalization.\n",
        "\n",
        "\n",
        "\n",
        "\n",
        "# 3. Explain the concept of feature randomness in Random Forest\n",
        "  - Feature randomness means that at each split in a Random Forest, a random subset of features is considered rather than all features. This reduces correlation between trees and improves generalization.\n",
        "\n",
        "\n",
        "\n",
        "# 4. What is OOB (Out-of-Bag) Score ?\n",
        "  - OOB Score is the accuracy measured using data not included in the bootstrap sample for each tree in a Bagging model (e.g., Random Forest). It serves as an internal validation metric.\n",
        "\n",
        "\n",
        "\n",
        "# 5. How can you measure the importance of features in a Random Forest model ?\n",
        "  - Feature importance in Random Forest is measured by how much each feature decreases the impurity (e.g., Gini or MSE) across all trees. Features with higher impurity reduction are more important.\n",
        "\n",
        "\n",
        "\n",
        "\n",
        "# 6. Explain the working principle of a Bagging Classifier.\n",
        "  - Bagging Classifier trains multiple base models (typically decision trees) on different bootstrap samples of the training data and combines their predictions via majority voting to improve accuracy and reduce variance.\n",
        "\n",
        "\n",
        "\n",
        "\n",
        "# 7. How do you evaluate a Bagging Classifier’s performance ?\n",
        "  - Use metrics like accuracy, precision, recall, F1-score, or ROC-AUC on a test set. You can also use the OOB score as an internal performance estimate.\n",
        "\n",
        "\n",
        "\n",
        "\n",
        "# 8. How does a Bagging Regressor work ?\n",
        "  - A Bagging Regressor trains multiple regressors on different bootstrap samples and averages their predictions to reduce variance and improve stability.\n",
        "\n",
        "\n",
        "\n",
        "\n",
        "# 9. What is the main advantage of ensemble techniques ?\n",
        "  - The main advantage is improved model performance through better accuracy, robustness, and generalization by combining multiple models.\n",
        "\n",
        "\n",
        "\n",
        "\n",
        "# 10. What is the main challenge of ensemble methods ?\n",
        "  - Main challenge: Increased computational cost and complexity, plus reduced interpretability compared to single models.\n",
        "\n",
        "\n",
        "\n",
        "\n",
        "# 11. Explain the key idea behind ensemble techniques.\n",
        "  - Combine predictions from multiple diverse models to reduce errors and improve overall performance compared to individual models.\n",
        "\n",
        "\n",
        "\n",
        "# 12. What is a Random Forest Classifier ?\n",
        "  - A Random Forest Classifier is an ensemble of decision trees trained on bootstrap samples with random feature selection, combining their predictions by majority voting for classification.\n",
        "\n",
        "\n",
        "\n",
        "\n",
        "# 13. What are the main types of ensemble techniques ?\n",
        "  - Main types of ensemble techniques:\n",
        "       - Bagging (e.g., Random Forest)\n",
        "       - Boosting (e.g., AdaBoost, Gradient Boosting)\n",
        "       - Stacking (combining multiple models using a meta-learner)\n",
        "\n",
        "\n",
        "\n",
        "\n",
        "# 14. What is ensemble learning in machine learning ?\n",
        "  - Ensemble learning is a technique that combines predictions from multiple models to improve accuracy, reduce variance, and enhance robustness compared to individual models.\n",
        "\n",
        "\n",
        "\n",
        "\n",
        "# 15. When should we avoid using ensemble methods ?\n",
        "  - Avoid ensemble methods when:\n",
        "    - Interpretability is critical.\n",
        "    - Computational resources or time are limited.\n",
        "    - Dataset is very small or simple models perform sufficiently well.\n",
        "\n",
        "\n",
        "\n",
        "\n",
        "# 16. How does Bagging help in reducing overfitting ?\n",
        "  - Bagging reduces overfitting by training multiple models on different random subsets of data and averaging their predictions, which lowers variance and smooths out noise.\n",
        "\n",
        "\n",
        "\n",
        "\n",
        "# 17. Why is Random Forest better than a single Decision Tree ?\n",
        "  - Random Forest is better because it reduces overfitting and variance by averaging many decorrelated trees, leading to improved accuracy and robustness compared to a single decision tree.\n",
        "\n",
        "\n",
        "\n",
        "\n",
        "# 18. What is the role of bootstrap sampling in Bagging ?\n",
        "  - Bootstrap sampling creates multiple random training subsets (with replacement) to train each base model independently, increasing diversity and reducing variance in Bagging.\n",
        "\n",
        "\n",
        "\n",
        "\n",
        "# 19. What are some real-world applications of ensemble techniques ?\n",
        "  - Fraud detection\n",
        "  - Spam filtering\n",
        "  - Medical diagnosis\n",
        "  - Credit scoring\n",
        "  - Image and speech recognition\n",
        "  - Stock market prediction\n",
        "\n",
        "\n",
        "\n",
        "\n",
        "# 20. What is the difference between Bagging and Boosting ?\n",
        "  - Bagging: trains models independently on random samples, combines by averaging/voting; reduces variance.\n",
        "\n",
        "  - Boosting: trains models sequentially, each correcting errors of the previous; reduces bias and variance.\n",
        "\n",
        "\n"
      ],
      "metadata": {
        "id": "IjAjcTqDNjwV"
      }
    },
    {
      "cell_type": "markdown",
      "source": [
        "Practical Questiosn & Answers"
      ],
      "metadata": {
        "id": "-M--cuxPT6Vz"
      }
    },
    {
      "cell_type": "code",
      "source": [
        "# 21. Train a Bagging Classifier using Decision Trees on a sample dataset and print model accuracy .\n",
        "\n",
        "from sklearn.datasets import load_iris\n",
        "from sklearn.model_selection import train_test_split\n",
        "from sklearn.tree import DecisionTreeClassifier\n",
        "from sklearn.ensemble import BaggingClassifier\n",
        "from sklearn.metrics import accuracy_score\n",
        "\n",
        "# Load data\n",
        "iris = load_iris()\n",
        "X, y = iris.data, iris.target\n",
        "\n",
        "# Split data\n",
        "X_train, X_test, y_train, y_test = train_test_split(X, y, test_size=0.3, random_state=42)\n",
        "\n",
        "# Base estimator\n",
        "dt = DecisionTreeClassifier(random_state=42)\n",
        "\n",
        "# Bagging classifier with updated argument\n",
        "bagging = BaggingClassifier(estimator=dt, n_estimators=50, random_state=42)\n",
        "bagging.fit(X_train, y_train)\n",
        "\n",
        "# Predict and evaluate\n",
        "y_pred = bagging.predict(X_test)\n",
        "accuracy = accuracy_score(y_test, y_pred)\n",
        "print(f\"Bagging Classifier Accuracy: {accuracy:.2f}\")\n"
      ],
      "metadata": {
        "colab": {
          "base_uri": "https://localhost:8080/"
        },
        "id": "YgFbHUb6T8sL",
        "outputId": "e7829fd6-5ea3-41c4-b038-287ed1af9803"
      },
      "execution_count": 2,
      "outputs": [
        {
          "output_type": "stream",
          "name": "stdout",
          "text": [
            "Bagging Classifier Accuracy: 1.00\n"
          ]
        }
      ]
    },
    {
      "cell_type": "code",
      "source": [
        "# 22. Train a Bagging Regressor using Decision Trees and evaluate using Mean Squared Error (MSE).\n",
        "\n",
        "from sklearn.datasets import fetch_california_housing\n",
        "from sklearn.model_selection import train_test_split\n",
        "from sklearn.tree import DecisionTreeRegressor\n",
        "from sklearn.ensemble import BaggingRegressor\n",
        "from sklearn.metrics import mean_squared_error\n",
        "\n",
        "# Load data\n",
        "housing = fetch_california_housing()\n",
        "X, y = housing.data, housing.target\n",
        "\n",
        "# Split data\n",
        "X_train, X_test, y_train, y_test = train_test_split(X, y, test_size=0.3, random_state=42)\n",
        "\n",
        "# Base estimator\n",
        "dt = DecisionTreeRegressor(random_state=42)\n",
        "\n",
        "# Bagging regressor with updated argument\n",
        "bagging = BaggingRegressor(estimator=dt, n_estimators=50, random_state=42)\n",
        "bagging.fit(X_train, y_train)\n",
        "\n",
        "# Predict and evaluate\n",
        "y_pred = bagging.predict(X_test)\n",
        "mse = mean_squared_error(y_test, y_pred)\n",
        "print(f\"Bagging Regressor MSE: {mse:.4f}\")\n",
        "\n",
        "\n"
      ],
      "metadata": {
        "colab": {
          "base_uri": "https://localhost:8080/"
        },
        "id": "EC70dqRGUDcn",
        "outputId": "dbf37a9f-2801-4c86-db0c-b00b33caa15c"
      },
      "execution_count": 4,
      "outputs": [
        {
          "output_type": "stream",
          "name": "stdout",
          "text": [
            "Bagging Regressor MSE: 0.2579\n"
          ]
        }
      ]
    },
    {
      "cell_type": "code",
      "source": [
        "# 23. Train a Random Forest Classifier on the Breast Cancer dataset and print feature importance scores.\n",
        "\n",
        "from sklearn.datasets import load_breast_cancer\n",
        "from sklearn.ensemble import RandomForestClassifier\n",
        "from sklearn.model_selection import train_test_split\n",
        "\n",
        "# Load data\n",
        "data = load_breast_cancer()\n",
        "X, y = data.data, data.target\n",
        "feature_names = data.feature_names\n",
        "\n",
        "# Split data\n",
        "X_train, X_test, y_train, y_test = train_test_split(X, y, random_state=42)\n",
        "\n",
        "# Train Random Forest Classifier\n",
        "rf = RandomForestClassifier(random_state=42)\n",
        "rf.fit(X_train, y_train)\n",
        "\n",
        "# Feature importance\n",
        "importances = rf.feature_importances_\n",
        "\n",
        "# Print feature importance scores\n",
        "for name, score in zip(feature_names, importances):\n",
        "    print(f\"{name}: {score:.4f}\")\n"
      ],
      "metadata": {
        "colab": {
          "base_uri": "https://localhost:8080/"
        },
        "id": "zj9v-sqbUd3K",
        "outputId": "687e93d3-75ae-4147-e7f4-acd1d3ae23c5"
      },
      "execution_count": 5,
      "outputs": [
        {
          "output_type": "stream",
          "name": "stdout",
          "text": [
            "mean radius: 0.0397\n",
            "mean texture: 0.0146\n",
            "mean perimeter: 0.0531\n",
            "mean area: 0.0428\n",
            "mean smoothness: 0.0082\n",
            "mean compactness: 0.0114\n",
            "mean concavity: 0.0832\n",
            "mean concave points: 0.0903\n",
            "mean symmetry: 0.0044\n",
            "mean fractal dimension: 0.0044\n",
            "radius error: 0.0195\n",
            "texture error: 0.0046\n",
            "perimeter error: 0.0087\n",
            "area error: 0.0436\n",
            "smoothness error: 0.0046\n",
            "compactness error: 0.0037\n",
            "concavity error: 0.0070\n",
            "concave points error: 0.0050\n",
            "symmetry error: 0.0037\n",
            "fractal dimension error: 0.0066\n",
            "worst radius: 0.0813\n",
            "worst texture: 0.0165\n",
            "worst perimeter: 0.0714\n",
            "worst area: 0.1232\n",
            "worst smoothness: 0.0103\n",
            "worst compactness: 0.0158\n",
            "worst concavity: 0.0317\n",
            "worst concave points: 0.1723\n",
            "worst symmetry: 0.0131\n",
            "worst fractal dimension: 0.0052\n"
          ]
        }
      ]
    },
    {
      "cell_type": "code",
      "source": [
        "# 24. Train a Random Forest Regressor and compare its performance with a single Decision Tree\n",
        "\n",
        "from sklearn.datasets import fetch_california_housing\n",
        "from sklearn.model_selection import train_test_split\n",
        "from sklearn.tree import DecisionTreeRegressor\n",
        "from sklearn.ensemble import RandomForestRegressor\n",
        "from sklearn.metrics import mean_squared_error\n",
        "\n",
        "# Load data\n",
        "housing = fetch_california_housing()\n",
        "X, y = housing.data, housing.target\n",
        "\n",
        "# Split data\n",
        "X_train, X_test, y_train, y_test = train_test_split(X, y, test_size=0.3, random_state=42)\n",
        "\n",
        "# Train Decision Tree\n",
        "dt = DecisionTreeRegressor(random_state=42)\n",
        "dt.fit(X_train, y_train)\n",
        "y_pred_dt = dt.predict(X_test)\n",
        "mse_dt = mean_squared_error(y_test, y_pred_dt)\n",
        "\n",
        "# Train Random Forest\n",
        "rf = RandomForestRegressor(random_state=42)\n",
        "rf.fit(X_train, y_train)\n",
        "y_pred_rf = rf.predict(X_test)\n",
        "mse_rf = mean_squared_error(y_test, y_pred_rf)\n",
        "\n",
        "print(f\"Decision Tree MSE: {mse_dt:.4f}\")\n",
        "print(f\"Random Forest MSE: {mse_rf:.4f}\")\n"
      ],
      "metadata": {
        "colab": {
          "base_uri": "https://localhost:8080/"
        },
        "id": "qQ_Nf0obU4cY",
        "outputId": "d3421692-c531-4bd4-a565-825c7369bcde"
      },
      "execution_count": 6,
      "outputs": [
        {
          "output_type": "stream",
          "name": "stdout",
          "text": [
            "Decision Tree MSE: 0.5280\n",
            "Random Forest MSE: 0.2565\n"
          ]
        }
      ]
    },
    {
      "cell_type": "code",
      "source": [
        "# 25. Compute the Out-of-Bag (OOB) Score for a Random Forest Classifier.\n",
        "\n",
        "from sklearn.datasets import load_breast_cancer\n",
        "from sklearn.ensemble import RandomForestClassifier\n",
        "from sklearn.model_selection import train_test_split\n",
        "\n",
        "# Load data\n",
        "data = load_breast_cancer()\n",
        "X, y = data.data, data.target\n",
        "\n",
        "# Split data\n",
        "X_train, X_test, y_train, y_test = train_test_split(X, y, random_state=42)\n",
        "\n",
        "# Train Random Forest with OOB enabled\n",
        "rf = RandomForestClassifier(random_state=42, oob_score=True)\n",
        "rf.fit(X_train, y_train)\n",
        "\n",
        "# Print OOB score\n",
        "print(f\"OOB Score: {rf.oob_score_:.4f}\")\n"
      ],
      "metadata": {
        "colab": {
          "base_uri": "https://localhost:8080/"
        },
        "id": "Q_Y_seVKVJlH",
        "outputId": "86964abd-f4f3-47fa-e749-249e94c112fe"
      },
      "execution_count": 7,
      "outputs": [
        {
          "output_type": "stream",
          "name": "stdout",
          "text": [
            "OOB Score: 0.9601\n"
          ]
        }
      ]
    },
    {
      "cell_type": "code",
      "source": [
        "# 26. Train a Bagging Classifier using SVM as a base estimator and print accuracy.\n",
        "\n",
        "from sklearn.datasets import load_iris\n",
        "from sklearn.model_selection import train_test_split\n",
        "from sklearn.svm import SVC\n",
        "from sklearn.ensemble import BaggingClassifier\n",
        "from sklearn.metrics import accuracy_score\n",
        "\n",
        "# Load data\n",
        "iris = load_iris()\n",
        "X, y = iris.data, iris.target\n",
        "\n",
        "# Split data\n",
        "X_train, X_test, y_train, y_test = train_test_split(X, y, test_size=0.3, random_state=42)\n",
        "\n",
        "# Base estimator: SVM\n",
        "svm = SVC(kernel='linear', probability=True, random_state=42)\n",
        "\n",
        "# Bagging classifier with SVM base estimator\n",
        "bagging = BaggingClassifier(estimator=svm, n_estimators=20, random_state=42)\n",
        "bagging.fit(X_train, y_train)\n",
        "\n",
        "# Predict and evaluate\n",
        "y_pred = bagging.predict(X_test)\n",
        "accuracy = accuracy_score(y_test, y_pred)\n",
        "print(f\"Bagging Classifier with SVM Accuracy: {accuracy:.2f}\")\n"
      ],
      "metadata": {
        "colab": {
          "base_uri": "https://localhost:8080/"
        },
        "id": "P9eO7tq9VmnT",
        "outputId": "c8e7a22a-0f5b-43c2-f637-1ecb5492136b"
      },
      "execution_count": 8,
      "outputs": [
        {
          "output_type": "stream",
          "name": "stdout",
          "text": [
            "Bagging Classifier with SVM Accuracy: 1.00\n"
          ]
        }
      ]
    },
    {
      "cell_type": "code",
      "source": [
        "# 27. Train a Random Forest Classifier with different numbers of trees and compare accuracy ?\n",
        "\n",
        "from sklearn.datasets import load_breast_cancer\n",
        "from sklearn.ensemble import RandomForestClassifier\n",
        "from sklearn.model_selection import train_test_split\n",
        "from sklearn.metrics import accuracy_score\n",
        "\n",
        "# Load data\n",
        "data = load_breast_cancer()\n",
        "X, y = data.data, data.target\n",
        "\n",
        "# Split data\n",
        "X_train, X_test, y_train, y_test = train_test_split(X, y, random_state=42)\n",
        "\n",
        "# Different number of trees\n",
        "n_trees = [10, 50, 100, 200]\n",
        "\n",
        "for n in n_trees:\n",
        "    rf = RandomForestClassifier(n_estimators=n, random_state=42)\n",
        "    rf.fit(X_train, y_train)\n",
        "    y_pred = rf.predict(X_test)\n",
        "    accuracy = accuracy_score(y_test, y_pred)\n",
        "    print(f\"Random Forest with {n} trees Accuracy: {accuracy:.4f}\")\n"
      ],
      "metadata": {
        "colab": {
          "base_uri": "https://localhost:8080/"
        },
        "id": "R2YsxfSLVs4t",
        "outputId": "8454ee0c-9682-4ffd-d07f-859d988dc4ca"
      },
      "execution_count": 9,
      "outputs": [
        {
          "output_type": "stream",
          "name": "stdout",
          "text": [
            "Random Forest with 10 trees Accuracy: 0.9510\n",
            "Random Forest with 50 trees Accuracy: 0.9720\n",
            "Random Forest with 100 trees Accuracy: 0.9650\n",
            "Random Forest with 200 trees Accuracy: 0.9650\n"
          ]
        }
      ]
    },
    {
      "cell_type": "code",
      "source": [
        "# 28. Train a Bagging Classifier using Logistic Regression as a base estimator and print AUC score.\n",
        "\n",
        "from sklearn.datasets import load_breast_cancer\n",
        "from sklearn.model_selection import train_test_split\n",
        "from sklearn.linear_model import LogisticRegression\n",
        "from sklearn.ensemble import BaggingClassifier\n",
        "from sklearn.preprocessing import StandardScaler\n",
        "from sklearn.metrics import roc_auc_score\n",
        "\n",
        "# Load data\n",
        "data = load_breast_cancer()\n",
        "X, y = data.data, data.target\n",
        "\n",
        "# Scale features\n",
        "scaler = StandardScaler()\n",
        "X_scaled = scaler.fit_transform(X)\n",
        "\n",
        "# Split data\n",
        "X_train, X_test, y_train, y_test = train_test_split(X_scaled, y, random_state=42)\n",
        "\n",
        "# Base estimator: Logistic Regression with higher max_iter\n",
        "logreg = LogisticRegression(max_iter=2000, random_state=42)\n",
        "\n",
        "# Bagging classifier\n",
        "bagging = BaggingClassifier(estimator=logreg, n_estimators=50, random_state=42)\n",
        "bagging.fit(X_train, y_train)\n",
        "\n",
        "# Predict probabilities\n",
        "y_probs = bagging.predict_proba(X_test)[:, 1]\n",
        "\n",
        "# Compute AUC\n",
        "auc = roc_auc_score(y_test, y_probs)\n",
        "print(f\"Bagging Classifier with Logistic Regression AUC: {auc:.4f}\")\n"
      ],
      "metadata": {
        "colab": {
          "base_uri": "https://localhost:8080/"
        },
        "id": "3zw4hI2_WEoN",
        "outputId": "47111f33-28b5-4560-ba17-a168b61ebfef"
      },
      "execution_count": 11,
      "outputs": [
        {
          "output_type": "stream",
          "name": "stdout",
          "text": [
            "Bagging Classifier with Logistic Regression AUC: 0.9977\n"
          ]
        }
      ]
    },
    {
      "cell_type": "code",
      "source": [
        "# 29. Train a Random Forest Regressor and analyze feature importance scores.\n",
        "\n",
        "from sklearn.datasets import fetch_california_housing\n",
        "from sklearn.ensemble import RandomForestRegressor\n",
        "from sklearn.model_selection import train_test_split\n",
        "import pandas as pd\n",
        "\n",
        "# Load dataset\n",
        "data = fetch_california_housing()\n",
        "X, y = data.data, data.target\n",
        "feature_names = data.feature_names\n",
        "\n",
        "# Split data\n",
        "X_train, X_test, y_train, y_test = train_test_split(X, y, random_state=42)\n",
        "\n",
        "# Train Random Forest Regressor\n",
        "rf = RandomForestRegressor(n_estimators=100, random_state=42)\n",
        "rf.fit(X_train, y_train)\n",
        "\n",
        "# Get feature importance\n",
        "importances = rf.feature_importances_\n",
        "\n",
        "# Create a sorted DataFrame for better visualization\n",
        "feat_imp_df = pd.DataFrame({\n",
        "    'Feature': feature_names,\n",
        "    'Importance': importances\n",
        "}).sort_values(by='Importance', ascending=False)\n",
        "\n",
        "print(feat_imp_df)\n"
      ],
      "metadata": {
        "colab": {
          "base_uri": "https://localhost:8080/"
        },
        "id": "DBL1YWOoWLRK",
        "outputId": "281382ea-a1df-40ba-bcbf-ba5914ff235c"
      },
      "execution_count": 12,
      "outputs": [
        {
          "output_type": "stream",
          "name": "stdout",
          "text": [
            "      Feature  Importance\n",
            "0      MedInc    0.522230\n",
            "5    AveOccup    0.139132\n",
            "6    Latitude    0.088686\n",
            "7   Longitude    0.088538\n",
            "1    HouseAge    0.054108\n",
            "2    AveRooms    0.045245\n",
            "4  Population    0.031959\n",
            "3   AveBedrms    0.030101\n"
          ]
        }
      ]
    },
    {
      "cell_type": "code",
      "source": [
        "# 30. Train an ensemble model using both Bagging and Random Forest and compare accuracy.\n",
        "\n",
        "from sklearn.datasets import load_breast_cancer\n",
        "from sklearn.ensemble import BaggingClassifier, RandomForestClassifier\n",
        "from sklearn.tree import DecisionTreeClassifier\n",
        "from sklearn.model_selection import train_test_split\n",
        "from sklearn.metrics import accuracy_score\n",
        "\n",
        "# Load dataset\n",
        "data = load_breast_cancer()\n",
        "X, y = data.data, data.target\n",
        "\n",
        "# Split data\n",
        "X_train, X_test, y_train, y_test = train_test_split(X, y, random_state=42)\n",
        "\n",
        "# Bagging with Decision Tree base estimator (use 'estimator' instead of 'base_estimator')\n",
        "bagging = BaggingClassifier(\n",
        "    estimator=DecisionTreeClassifier(),\n",
        "    n_estimators=100,\n",
        "    random_state=42\n",
        ")\n",
        "bagging.fit(X_train, y_train)\n",
        "y_pred_bagging = bagging.predict(X_test)\n",
        "acc_bagging = accuracy_score(y_test, y_pred_bagging)\n",
        "\n",
        "# Random Forest Classifier\n",
        "rf = RandomForestClassifier(n_estimators=100, random_state=42)\n",
        "rf.fit(X_train, y_train)\n",
        "y_pred_rf = rf.predict(X_test)\n",
        "acc_rf = accuracy_score(y_test, y_pred_rf)\n",
        "\n",
        "print(f\"Bagging Classifier Accuracy: {acc_bagging:.4f}\")\n",
        "print(f\"Random Forest Accuracy: {acc_rf:.4f}\")\n",
        "\n"
      ],
      "metadata": {
        "colab": {
          "base_uri": "https://localhost:8080/"
        },
        "id": "JjOj2qQqWrWW",
        "outputId": "71e08d49-b544-41fb-91d4-409555c8d566"
      },
      "execution_count": 14,
      "outputs": [
        {
          "output_type": "stream",
          "name": "stdout",
          "text": [
            "Bagging Classifier Accuracy: 0.9580\n",
            "Random Forest Accuracy: 0.9650\n"
          ]
        }
      ]
    },
    {
      "cell_type": "code",
      "source": [
        "# 31.  Train a Random Forest Classifier and tune hyperparameters using GridSearchCV\n",
        "\n",
        "from sklearn.datasets import load_breast_cancer\n",
        "from sklearn.ensemble import RandomForestClassifier\n",
        "from sklearn.model_selection import train_test_split, GridSearchCV\n",
        "from sklearn.metrics import accuracy_score\n",
        "\n",
        "# Load dataset\n",
        "data = load_breast_cancer()\n",
        "X, y = data.data, data.target\n",
        "\n",
        "# Split dataset\n",
        "X_train, X_test, y_train, y_test = train_test_split(X, y, random_state=42)\n",
        "\n",
        "# Initialize Random Forest\n",
        "rf = RandomForestClassifier(random_state=42)\n",
        "\n",
        "# Hyperparameter grid\n",
        "param_grid = {\n",
        "    'n_estimators': [50, 100, 200],\n",
        "    'max_depth': [None, 5, 10],\n",
        "    'min_samples_split': [2, 5],\n",
        "    'min_samples_leaf': [1, 2],\n",
        "    'criterion': ['gini', 'entropy']\n",
        "}\n",
        "\n",
        "# GridSearchCV\n",
        "grid_search = GridSearchCV(rf, param_grid, cv=5, n_jobs=-1)\n",
        "grid_search.fit(X_train, y_train)\n",
        "\n",
        "# Best model evaluation\n",
        "best_rf = grid_search.best_estimator_\n",
        "y_pred = best_rf.predict(X_test)\n",
        "accuracy = accuracy_score(y_test, y_pred)\n",
        "\n",
        "print(f\"Best Parameters: {grid_search.best_params_}\")\n",
        "print(f\"Test Accuracy: {accuracy:.4f}\")\n"
      ],
      "metadata": {
        "colab": {
          "base_uri": "https://localhost:8080/"
        },
        "id": "O62L0yf7W1AS",
        "outputId": "6a62ff7b-fb86-4adc-9809-c4d0d2f38939"
      },
      "execution_count": 15,
      "outputs": [
        {
          "output_type": "stream",
          "name": "stdout",
          "text": [
            "Best Parameters: {'criterion': 'entropy', 'max_depth': None, 'min_samples_leaf': 1, 'min_samples_split': 2, 'n_estimators': 50}\n",
            "Test Accuracy: 0.9790\n"
          ]
        }
      ]
    },
    {
      "cell_type": "code",
      "source": [
        "# 32. Train a Bagging Regressor with different numbers of base estimators and compare performance ?\n",
        "\n",
        "from sklearn.datasets import fetch_california_housing\n",
        "from sklearn.model_selection import train_test_split\n",
        "from sklearn.ensemble import BaggingRegressor\n",
        "from sklearn.tree import DecisionTreeRegressor\n",
        "from sklearn.metrics import mean_squared_error\n",
        "\n",
        "# Load dataset\n",
        "data = fetch_california_housing()\n",
        "X, y = data.data, data.target\n",
        "\n",
        "# Split dataset\n",
        "X_train, X_test, y_train, y_test = train_test_split(X, y, random_state=42)\n",
        "\n",
        "# Base estimator\n",
        "base_estimator = DecisionTreeRegressor(random_state=42)\n",
        "\n",
        "# Different numbers of estimators\n",
        "n_estimators_list = [10, 50, 100, 200]\n",
        "mse_scores = []\n",
        "\n",
        "for n in n_estimators_list:\n",
        "    bagging = BaggingRegressor(estimator=base_estimator, n_estimators=n, random_state=42)\n",
        "    bagging.fit(X_train, y_train)\n",
        "    y_pred = bagging.predict(X_test)\n",
        "    mse = mean_squared_error(y_test, y_pred)\n",
        "    mse_scores.append(mse)\n",
        "    print(f\"n_estimators={n} -> MSE: {mse:.4f}\")\n",
        "\n"
      ],
      "metadata": {
        "colab": {
          "base_uri": "https://localhost:8080/"
        },
        "id": "WQ3y438gXHWg",
        "outputId": "46d14753-5a63-4c54-a5b5-be56a22e205f"
      },
      "execution_count": 17,
      "outputs": [
        {
          "output_type": "stream",
          "name": "stdout",
          "text": [
            "n_estimators=10 -> MSE: 0.2787\n",
            "n_estimators=50 -> MSE: 0.2582\n",
            "n_estimators=100 -> MSE: 0.2545\n",
            "n_estimators=200 -> MSE: 0.2527\n"
          ]
        }
      ]
    },
    {
      "cell_type": "code",
      "source": [
        "# 33. Train a Random Forest Classifier and analyze misclassified samples ?\n",
        "\n",
        "from sklearn.datasets import load_breast_cancer\n",
        "from sklearn.model_selection import train_test_split\n",
        "from sklearn.ensemble import RandomForestClassifier\n",
        "from sklearn.metrics import accuracy_score\n",
        "import numpy as np\n",
        "\n",
        "# Load data\n",
        "data = load_breast_cancer()\n",
        "X, y = data.data, data.target\n",
        "\n",
        "# Split data\n",
        "X_train, X_test, y_train, y_test = train_test_split(X, y, random_state=42)\n",
        "\n",
        "# Train Random Forest\n",
        "rf = RandomForestClassifier(random_state=42)\n",
        "rf.fit(X_train, y_train)\n",
        "\n",
        "# Predict\n",
        "y_pred = rf.predict(X_test)\n",
        "\n",
        "# Accuracy\n",
        "acc = accuracy_score(y_test, y_pred)\n",
        "print(f\"Accuracy: {acc:.4f}\")\n",
        "\n",
        "# Find misclassified samples indices\n",
        "misclassified_indices = np.where(y_test != y_pred)[0]\n",
        "print(f\"Number of misclassified samples: {len(misclassified_indices)}\")\n",
        "\n",
        "# Optional: Show misclassified samples details (first 5)\n",
        "for idx in misclassified_indices[:5]:\n",
        "    print(f\"Index: {idx}, True label: {y_test[idx]}, Predicted: {y_pred[idx]}\")\n"
      ],
      "metadata": {
        "colab": {
          "base_uri": "https://localhost:8080/"
        },
        "id": "n5M643T9Xi2_",
        "outputId": "cb83f535-e840-491e-c32d-b9de202823ae"
      },
      "execution_count": 18,
      "outputs": [
        {
          "output_type": "stream",
          "name": "stdout",
          "text": [
            "Accuracy: 0.9650\n",
            "Number of misclassified samples: 5\n",
            "Index: 8, True label: 1, Predicted: 0\n",
            "Index: 20, True label: 0, Predicted: 1\n",
            "Index: 77, True label: 0, Predicted: 1\n",
            "Index: 82, True label: 0, Predicted: 1\n",
            "Index: 108, True label: 1, Predicted: 0\n"
          ]
        }
      ]
    },
    {
      "cell_type": "code",
      "source": [
        "# 34. Train a Bagging Classifier and compare its performance with a single Decision Tree Classifier ?\n",
        "\n",
        "from sklearn.datasets import load_breast_cancer\n",
        "from sklearn.model_selection import train_test_split\n",
        "from sklearn.tree import DecisionTreeClassifier\n",
        "from sklearn.ensemble import BaggingClassifier\n",
        "from sklearn.metrics import accuracy_score\n",
        "\n",
        "# Load data\n",
        "data = load_breast_cancer()\n",
        "X, y = data.data, data.target\n",
        "\n",
        "# Split data\n",
        "X_train, X_test, y_train, y_test = train_test_split(X, y, random_state=42)\n",
        "\n",
        "# Single Decision Tree\n",
        "dt = DecisionTreeClassifier(random_state=42)\n",
        "dt.fit(X_train, y_train)\n",
        "y_pred_dt = dt.predict(X_test)\n",
        "acc_dt = accuracy_score(y_test, y_pred_dt)\n",
        "\n",
        "# Bagging Classifier with Decision Trees\n",
        "bagging = BaggingClassifier(\n",
        "    estimator=DecisionTreeClassifier(),\n",
        "    n_estimators=50,\n",
        "    random_state=42\n",
        ")\n",
        "bagging.fit(X_train, y_train)\n",
        "y_pred_bag = bagging.predict(X_test)\n",
        "acc_bag = accuracy_score(y_test, y_pred_bag)\n",
        "\n",
        "print(f\"Decision Tree Accuracy: {acc_dt:.4f}\")\n",
        "print(f\"Bagging Classifier Accuracy: {acc_bag:.4f}\")\n"
      ],
      "metadata": {
        "colab": {
          "base_uri": "https://localhost:8080/"
        },
        "id": "4fLxXNzWX8fV",
        "outputId": "2047e09a-ae04-497c-f266-da9a0c2909d0"
      },
      "execution_count": 19,
      "outputs": [
        {
          "output_type": "stream",
          "name": "stdout",
          "text": [
            "Decision Tree Accuracy: 0.9510\n",
            "Bagging Classifier Accuracy: 0.9580\n"
          ]
        }
      ]
    },
    {
      "cell_type": "code",
      "source": [
        "# 35. Train a Random Forest Classifier and visualize the confusion matrix ?\n",
        "\n",
        "import matplotlib.pyplot as plt\n",
        "import seaborn as sns\n",
        "from sklearn.datasets import load_breast_cancer\n",
        "from sklearn.model_selection import train_test_split\n",
        "from sklearn.ensemble import RandomForestClassifier\n",
        "from sklearn.metrics import confusion_matrix\n",
        "\n",
        "# Load data\n",
        "data = load_breast_cancer()\n",
        "X, y = data.data, data.target\n",
        "\n",
        "# Split data\n",
        "X_train, X_test, y_train, y_test = train_test_split(X, y, random_state=42)\n",
        "\n",
        "# Train Random Forest\n",
        "rf = RandomForestClassifier(random_state=42)\n",
        "rf.fit(X_train, y_train)\n",
        "\n",
        "# Predict\n",
        "y_pred = rf.predict(X_test)\n",
        "\n",
        "# Confusion matrix\n",
        "cm = confusion_matrix(y_test, y_pred)\n",
        "\n",
        "# Plot confusion matrix\n",
        "plt.figure(figsize=(6,5))\n",
        "sns.heatmap(cm, annot=True, fmt='d', cmap='Blues',\n",
        "            xticklabels=data.target_names, yticklabels=data.target_names)\n",
        "plt.xlabel('Predicted')\n",
        "plt.ylabel('Actual')\n",
        "plt.title('Confusion Matrix - Random Forest Classifier')\n",
        "plt.show()\n"
      ],
      "metadata": {
        "colab": {
          "base_uri": "https://localhost:8080/",
          "height": 487
        },
        "id": "LxanVDvIYDdN",
        "outputId": "54d30030-56c2-4115-9e8f-eb5b0e2b140a"
      },
      "execution_count": 20,
      "outputs": [
        {
          "output_type": "display_data",
          "data": {
            "text/plain": [
              "<Figure size 600x500 with 2 Axes>"
            ],
            "image/png": "[encoded data removed]"
          },
          "metadata": {}
        }
      ]
    },
    {
      "cell_type": "code",
      "source": [
        "# 36.  Train a Stacking Classifier using Decision Trees, SVM, and Logistic Regression, and compare accuracy ?\n",
        "\n",
        "\n",
        "from sklearn.datasets import load_breast_cancer\n",
        "from sklearn.model_selection import train_test_split\n",
        "from sklearn.tree import DecisionTreeClassifier\n",
        "from sklearn.svm import SVC\n",
        "from sklearn.linear_model import LogisticRegression\n",
        "from sklearn.ensemble import StackingClassifier\n",
        "from sklearn.preprocessing import StandardScaler\n",
        "from sklearn.pipeline import make_pipeline\n",
        "from sklearn.metrics import accuracy_score\n",
        "\n",
        "# Load dataset\n",
        "data = load_breast_cancer()\n",
        "X, y = data.data, data.target\n",
        "\n",
        "# Train/test split\n",
        "X_train, X_test, y_train, y_test = train_test_split(X, y, test_size=0.2, random_state=42)\n",
        "\n",
        "# Define base estimators with scaling where needed\n",
        "estimators = [\n",
        "    ('dt', DecisionTreeClassifier(random_state=42)),\n",
        "    ('svm', make_pipeline(StandardScaler(), SVC(probability=True, random_state=42))),\n",
        "    ('lr', make_pipeline(StandardScaler(), LogisticRegression(max_iter=2000, random_state=42)))\n",
        "]\n",
        "\n",
        "# Define Stacking Classifier with Logistic Regression as final estimator\n",
        "stacking_clf = StackingClassifier(\n",
        "    estimators=estimators,\n",
        "    final_estimator=LogisticRegression(max_iter=2000, random_state=42)\n",
        ")\n",
        "\n",
        "# Train model\n",
        "stacking_clf.fit(X_train, y_train)\n",
        "\n",
        "# Predict and evaluate\n",
        "y_pred = stacking_clf.predict(X_test)\n",
        "accuracy = accuracy_score(y_test, y_pred)\n",
        "\n",
        "print(f\"Stacking Classifier accuracy: {accuracy:.4f}\")\n",
        "\n"
      ],
      "metadata": {
        "colab": {
          "base_uri": "https://localhost:8080/"
        },
        "id": "S4QWWH1AYMYM",
        "outputId": "9ca1365b-5858-495a-a17b-78491461446e"
      },
      "execution_count": 22,
      "outputs": [
        {
          "output_type": "stream",
          "name": "stdout",
          "text": [
            "Stacking Classifier accuracy: 0.9737\n"
          ]
        }
      ]
    },
    {
      "cell_type": "code",
      "source": [
        "# 37.  Train a Random Forest Classifier and print the top 5 most important features ?\n",
        "\n",
        "from sklearn.datasets import load_breast_cancer\n",
        "from sklearn.ensemble import RandomForestClassifier\n",
        "from sklearn.model_selection import train_test_split\n",
        "import numpy as np\n",
        "\n",
        "# Load data\n",
        "data = load_breast_cancer()\n",
        "X, y = data.data, data.target\n",
        "feature_names = data.feature_names\n",
        "\n",
        "# Split data\n",
        "X_train, X_test, y_train, y_test = train_test_split(X, y, random_state=42)\n",
        "\n",
        "# Train Random Forest\n",
        "rf = RandomForestClassifier(random_state=42)\n",
        "rf.fit(X_train, y_train)\n",
        "\n",
        "# Get feature importances\n",
        "importances = rf.feature_importances_\n",
        "indices = np.argsort(importances)[::-1]\n",
        "\n",
        "# Print top 5 features\n",
        "print(\"Top 5 Important Features:\")\n",
        "for i in range(5):\n",
        "    print(f\"{feature_names[indices[i]]}: {importances[indices[i]]:.4f}\")\n"
      ],
      "metadata": {
        "colab": {
          "base_uri": "https://localhost:8080/"
        },
        "id": "Sz1ZtufJYa6h",
        "outputId": "d5e4fffd-b29f-4e77-c061-aef758b1e47a"
      },
      "execution_count": 23,
      "outputs": [
        {
          "output_type": "stream",
          "name": "stdout",
          "text": [
            "Top 5 Important Features:\n",
            "worst concave points: 0.1723\n",
            "worst area: 0.1232\n",
            "mean concave points: 0.0903\n",
            "mean concavity: 0.0832\n",
            "worst radius: 0.0813\n"
          ]
        }
      ]
    },
    {
      "cell_type": "code",
      "source": [
        "# 38. Train a Bagging Classifier and evaluate performance using Precision, Recall, and F1-score\n",
        "\n",
        "from sklearn.datasets import load_breast_cancer\n",
        "from sklearn.ensemble import BaggingClassifier\n",
        "from sklearn.tree import DecisionTreeClassifier\n",
        "from sklearn.model_selection import train_test_split\n",
        "from sklearn.metrics import precision_score, recall_score, f1_score\n",
        "\n",
        "# Load data\n",
        "data = load_breast_cancer()\n",
        "X, y = data.data, data.target\n",
        "\n",
        "# Split data\n",
        "X_train, X_test, y_train, y_test = train_test_split(X, y, random_state=42)\n",
        "\n",
        "# Initialize Bagging Classifier with Decision Tree base estimator\n",
        "bagging = BaggingClassifier(estimator=DecisionTreeClassifier(), n_estimators=50, random_state=42)\n",
        "bagging.fit(X_train, y_train)\n",
        "\n",
        "# Predict\n",
        "y_pred = bagging.predict(X_test)\n",
        "\n",
        "# Evaluate\n",
        "precision = precision_score(y_test, y_pred)\n",
        "recall = recall_score(y_test, y_pred)\n",
        "f1 = f1_score(y_test, y_pred)\n",
        "\n",
        "print(f\"Precision: {precision:.4f}\")\n",
        "print(f\"Recall:    {recall:.4f}\")\n",
        "print(f\"F1-score:  {f1:.4f}\")\n",
        "\n"
      ],
      "metadata": {
        "colab": {
          "base_uri": "https://localhost:8080/"
        },
        "id": "jaDvaM5DY0EC",
        "outputId": "6aadd113-9405-4671-bdfa-227ca200b313"
      },
      "execution_count": 25,
      "outputs": [
        {
          "output_type": "stream",
          "name": "stdout",
          "text": [
            "Precision: 0.9663\n",
            "Recall:    0.9663\n",
            "F1-score:  0.9663\n"
          ]
        }
      ]
    },
    {
      "cell_type": "code",
      "source": [
        "# 39. Train a Random Forest Classifier and analyze the effect of max_depth on accuracy ?\n",
        "\n",
        "from sklearn.datasets import load_breast_cancer\n",
        "from sklearn.ensemble import RandomForestClassifier\n",
        "from sklearn.model_selection import train_test_split\n",
        "from sklearn.metrics import accuracy_score\n",
        "\n",
        "# Load data\n",
        "data = load_breast_cancer()\n",
        "X, y = data.data, data.target\n",
        "\n",
        "# Split dataset\n",
        "X_train, X_test, y_train, y_test = train_test_split(X, y, random_state=42)\n",
        "\n",
        "# Try different max_depth values\n",
        "max_depth_values = [None, 2, 4, 6, 8, 10]\n",
        "accuracies = {}\n",
        "\n",
        "for depth in max_depth_values:\n",
        "    rf = RandomForestClassifier(max_depth=depth, random_state=42)\n",
        "    rf.fit(X_train, y_train)\n",
        "    y_pred = rf.predict(X_test)\n",
        "    acc = accuracy_score(y_test, y_pred)\n",
        "    accuracies[depth] = acc\n",
        "\n",
        "# Print results\n",
        "for depth, acc in accuracies.items():\n",
        "    print(f\"max_depth={depth}: Accuracy = {acc:.4f}\")\n"
      ],
      "metadata": {
        "colab": {
          "base_uri": "https://localhost:8080/"
        },
        "id": "LrY4WcrBY8_D",
        "outputId": "5cf712b3-ffa3-4915-8172-c339b6b73cad"
      },
      "execution_count": 26,
      "outputs": [
        {
          "output_type": "stream",
          "name": "stdout",
          "text": [
            "max_depth=None: Accuracy = 0.9650\n",
            "max_depth=2: Accuracy = 0.9650\n",
            "max_depth=4: Accuracy = 0.9650\n",
            "max_depth=6: Accuracy = 0.9650\n",
            "max_depth=8: Accuracy = 0.9650\n",
            "max_depth=10: Accuracy = 0.9650\n"
          ]
        }
      ]
    },
    {
      "cell_type": "code",
      "source": [
        "# 40. Train a Bagging Regressor using different base estimators (DecisionTree and KNeighbors) and compare performance\n",
        "\n",
        "from sklearn.datasets import fetch_california_housing\n",
        "from sklearn.ensemble import BaggingRegressor\n",
        "from sklearn.tree import DecisionTreeRegressor\n",
        "from sklearn.neighbors import KNeighborsRegressor\n",
        "from sklearn.model_selection import train_test_split\n",
        "from sklearn.metrics import mean_squared_error\n",
        "\n",
        "# Load California housing dataset\n",
        "housing = fetch_california_housing()\n",
        "X, y = housing.data, housing.target\n",
        "\n",
        "# Split dataset\n",
        "X_train, X_test, y_train, y_test = train_test_split(X, y, random_state=42)\n",
        "\n",
        "# Base estimators\n",
        "dt = DecisionTreeRegressor(random_state=42)\n",
        "knn = KNeighborsRegressor()\n",
        "\n",
        "# Bagging regressors with different base estimators\n",
        "bagging_dt = BaggingRegressor(estimator=dt, n_estimators=50, random_state=42)\n",
        "bagging_knn = BaggingRegressor(estimator=knn, n_estimators=50, random_state=42)\n",
        "\n",
        "# Train\n",
        "bagging_dt.fit(X_train, y_train)\n",
        "bagging_knn.fit(X_train, y_train)\n",
        "\n",
        "# Predict\n",
        "y_pred_dt = bagging_dt.predict(X_test)\n",
        "y_pred_knn = bagging_knn.predict(X_test)\n",
        "\n",
        "# Evaluate\n",
        "mse_dt = mean_squared_error(y_test, y_pred_dt)\n",
        "mse_knn = mean_squared_error(y_test, y_pred_knn)\n",
        "\n",
        "print(f\"Bagging with Decision Tree MSE: {mse_dt:.4f}\")\n",
        "print(f\"Bagging with KNeighbors MSE: {mse_knn:.4f}\")\n",
        "\n"
      ],
      "metadata": {
        "colab": {
          "base_uri": "https://localhost:8080/"
        },
        "id": "riQgkW8wZOOs",
        "outputId": "6d0fb4cd-9bed-4708-d8cb-b94c04d3d992"
      },
      "execution_count": 28,
      "outputs": [
        {
          "output_type": "stream",
          "name": "stdout",
          "text": [
            "Bagging with Decision Tree MSE: 0.2582\n",
            "Bagging with KNeighbors MSE: 1.1006\n"
          ]
        }
      ]
    },
    {
      "cell_type": "code",
      "source": [
        "# 41. Train a Random Forest Classifier and evaluate its performance using ROC-AUC Score\n",
        "\n",
        "from sklearn.datasets import load_breast_cancer\n",
        "from sklearn.ensemble import RandomForestClassifier\n",
        "from sklearn.model_selection import train_test_split\n",
        "from sklearn.metrics import roc_auc_score\n",
        "\n",
        "# Load dataset\n",
        "data = load_breast_cancer()\n",
        "X, y = data.data, data.target\n",
        "\n",
        "# Split into train and test\n",
        "X_train, X_test, y_train, y_test = train_test_split(X, y, test_size=0.3, random_state=42)\n",
        "\n",
        "# Train Random Forest Classifier\n",
        "rf = RandomForestClassifier(random_state=42)\n",
        "rf.fit(X_train, y_train)\n",
        "\n",
        "# Predict probabilities for positive class\n",
        "y_proba = rf.predict_proba(X_test)[:, 1]\n",
        "\n",
        "# Calculate ROC-AUC score\n",
        "roc_auc = roc_auc_score(y_test, y_proba)\n",
        "\n",
        "print(f\"Random Forest Classifier ROC-AUC Score: {roc_auc:.4f}\")\n"
      ],
      "metadata": {
        "colab": {
          "base_uri": "https://localhost:8080/"
        },
        "id": "0981w_NGZxhs",
        "outputId": "6f62ecba-ed2d-4d1d-dc1f-241398f2e5a4"
      },
      "execution_count": 29,
      "outputs": [
        {
          "output_type": "stream",
          "name": "stdout",
          "text": [
            "Random Forest Classifier ROC-AUC Score: 0.9968\n"
          ]
        }
      ]
    },
    {
      "cell_type": "code",
      "source": [
        "# 42. Train a Bagging Classifier and evaluate its performance using cross-validatio.\n",
        "\n",
        "from sklearn.datasets import load_breast_cancer\n",
        "from sklearn.ensemble import BaggingClassifier\n",
        "from sklearn.tree import DecisionTreeClassifier\n",
        "from sklearn.model_selection import cross_val_score\n",
        "import numpy as np\n",
        "\n",
        "# Load dataset\n",
        "data = load_breast_cancer()\n",
        "X, y = data.data, data.target\n",
        "\n",
        "# Initialize BaggingClassifier with base estimator\n",
        "bagging = BaggingClassifier(\n",
        "    estimator=DecisionTreeClassifier(),\n",
        "    n_estimators=50,\n",
        "    random_state=42\n",
        ")\n",
        "\n",
        "# Evaluate with 5-fold cross-validation (accuracy)\n",
        "scores = cross_val_score(bagging, X, y, cv=5, scoring='accuracy')\n",
        "\n",
        "print(f\"Bagging Classifier Cross-Validation Accuracy: {np.mean(scores):.4f} ± {np.std(scores):.4f}\")\n"
      ],
      "metadata": {
        "colab": {
          "base_uri": "https://localhost:8080/"
        },
        "id": "H5JfVJzoaHxh",
        "outputId": "9bda53f2-fe66-4257-feaa-1fcb05cbd919"
      },
      "execution_count": 30,
      "outputs": [
        {
          "output_type": "stream",
          "name": "stdout",
          "text": [
            "Bagging Classifier Cross-Validation Accuracy: 0.9544 ± 0.0339\n"
          ]
        }
      ]
    },
    {
      "cell_type": "code",
      "source": [
        "# 43. Train a Random Forest Classifier and plot the Precision-Recall curv ?\n",
        "\n",
        "import matplotlib.pyplot as plt\n",
        "from sklearn.datasets import load_breast_cancer\n",
        "from sklearn.ensemble import RandomForestClassifier\n",
        "from sklearn.model_selection import train_test_split\n",
        "from sklearn.metrics import precision_recall_curve, average_precision_score\n",
        "\n",
        "# Load data\n",
        "data = load_breast_cancer()\n",
        "X, y = data.data, data.target\n",
        "\n",
        "# Split data\n",
        "X_train, X_test, y_train, y_test = train_test_split(X, y, test_size=0.3, random_state=42)\n",
        "\n",
        "# Train model\n",
        "rf = RandomForestClassifier(random_state=42)\n",
        "rf.fit(X_train, y_train)\n",
        "\n",
        "# Predict probabilities for positive class\n",
        "y_scores = rf.predict_proba(X_test)[:, 1]\n",
        "\n",
        "# Compute precision-recall curve\n",
        "precision, recall, thresholds = precision_recall_curve(y_test, y_scores)\n",
        "avg_precision = average_precision_score(y_test, y_scores)\n",
        "\n",
        "# Plot\n",
        "plt.figure(figsize=(8,6))\n",
        "plt.plot(recall, precision, label=f'Random Forest (AP={avg_precision:.3f})')\n",
        "plt.xlabel('Recall')\n",
        "plt.ylabel('Precision')\n",
        "plt.title('Precision-Recall Curve')\n",
        "plt.legend()\n",
        "plt.grid(True)\n",
        "plt.show()\n"
      ],
      "metadata": {
        "colab": {
          "base_uri": "https://localhost:8080/",
          "height": 564
        },
        "id": "2sEsBP5jaOF0",
        "outputId": "a61e2212-e460-4207-ed3e-03a489158970"
      },
      "execution_count": 31,
      "outputs": [
        {
          "output_type": "display_data",
          "data": {
            "text/plain": [
              "<Figure size 800x600 with 1 Axes>"
            ],
            "image/png": "[encoded data removed]"
          },
          "metadata": {}
        }
      ]
    },
    {
      "cell_type": "code",
      "source": [
        "# 44. Train a Stacking Classifier with Random Forest and Logistic Regression and compare accuracy ?\n",
        "\n",
        "from sklearn.datasets import load_breast_cancer\n",
        "from sklearn.ensemble import RandomForestClassifier, StackingClassifier\n",
        "from sklearn.linear_model import LogisticRegression\n",
        "from sklearn.model_selection import train_test_split\n",
        "from sklearn.preprocessing import StandardScaler\n",
        "from sklearn.pipeline import make_pipeline\n",
        "from sklearn.metrics import accuracy_score\n",
        "\n",
        "# Load data\n",
        "data = load_breast_cancer()\n",
        "X, y = data.data, data.target\n",
        "\n",
        "# Train/test split\n",
        "X_train, X_test, y_train, y_test = train_test_split(X, y, test_size=0.3, random_state=42)\n",
        "\n",
        "# Scale features\n",
        "scaler = StandardScaler()\n",
        "X_train_scaled = scaler.fit_transform(X_train)\n",
        "X_test_scaled = scaler.transform(X_test)\n",
        "\n",
        "# Base models with scaling inside pipeline for Logistic Regression\n",
        "rf = RandomForestClassifier(random_state=42)\n",
        "lr = make_pipeline(StandardScaler(), LogisticRegression(max_iter=5000, random_state=42))\n",
        "\n",
        "# Fit base models\n",
        "rf.fit(X_train, y_train)\n",
        "lr.fit(X_train, y_train)\n",
        "\n",
        "rf_pred = rf.predict(X_test)\n",
        "lr_pred = lr.predict(X_test)\n",
        "\n",
        "print(f\"Random Forest accuracy: {accuracy_score(y_test, rf_pred):.4f}\")\n",
        "print(f\"Logistic Regression accuracy: {accuracy_score(y_test, lr_pred):.4f}\")\n",
        "\n",
        "# Stacking classifier with scaled logistic regression as final estimator\n",
        "estimators = [('rf', rf), ('lr', lr)]\n",
        "stack_clf = StackingClassifier(estimators=estimators,\n",
        "                               final_estimator=LogisticRegression(max_iter=5000, random_state=42),\n",
        "                               cv=5)\n",
        "stack_clf.fit(X_train, y_train)\n",
        "stack_pred = stack_clf.predict(X_test)\n",
        "print(f\"Stacking Classifier accuracy: {accuracy_score(y_test, stack_pred):.4f}\")\n"
      ],
      "metadata": {
        "colab": {
          "base_uri": "https://localhost:8080/"
        },
        "id": "FP-_BSJIaVmC",
        "outputId": "ef1cd54f-bade-4375-9e81-daafe9510d24"
      },
      "execution_count": 33,
      "outputs": [
        {
          "output_type": "stream",
          "name": "stdout",
          "text": [
            "Random Forest accuracy: 0.9708\n",
            "Logistic Regression accuracy: 0.9825\n",
            "Stacking Classifier accuracy: 0.9766\n"
          ]
        }
      ]
    },
    {
      "cell_type": "code",
      "source": [
        "# 45. Train a Bagging Regressor with different levels of bootstrap samples and compare performance.\n",
        "\n",
        "from sklearn.datasets import fetch_california_housing\n",
        "from sklearn.ensemble import BaggingRegressor\n",
        "from sklearn.tree import DecisionTreeRegressor\n",
        "from sklearn.model_selection import train_test_split\n",
        "from sklearn.metrics import mean_squared_error\n",
        "import matplotlib.pyplot as plt\n",
        "\n",
        "# Load dataset\n",
        "data = fetch_california_housing()\n",
        "X, y = data.data, data.target\n",
        "\n",
        "# Train-test split\n",
        "X_train, X_test, y_train, y_test = train_test_split(X, y, test_size=0.3, random_state=42)\n",
        "\n",
        "# Different levels of bootstrap samples (fractions)\n",
        "bootstrap_samples = [0.3, 0.5, 0.7, 1.0]\n",
        "mse_scores = []\n",
        "\n",
        "for sample in bootstrap_samples:\n",
        "    bagging = BaggingRegressor(\n",
        "        estimator=DecisionTreeRegressor(),  # Use 'estimator' instead of 'base_estimator'\n",
        "        n_estimators=50,\n",
        "        max_samples=sample,\n",
        "        bootstrap=True,\n",
        "        random_state=42\n",
        "    )\n",
        "    bagging.fit(X_train, y_train)\n",
        "    y_pred = bagging.predict(X_test)\n",
        "    mse = mean_squared_error(y_test, y_pred)\n",
        "    mse_scores.append(mse)\n",
        "    print(f\"max_samples={sample}: MSE = {mse:.4f}\")\n",
        "\n",
        "# Plot results\n",
        "plt.plot(bootstrap_samples, mse_scores, marker='o')\n",
        "plt.xlabel('max_samples (fraction of bootstrap samples)')\n",
        "plt.ylabel('Mean Squared Error (MSE)')\n",
        "plt.title('Bagging Regressor Performance vs. Bootstrap Sample Size')\n",
        "plt.grid(True)\n",
        "plt.show()\n",
        "\n"
      ],
      "metadata": {
        "colab": {
          "base_uri": "https://localhost:8080/",
          "height": 541
        },
        "id": "caWyUDjZatX-",
        "outputId": "ed8b9076-12d6-4ec1-8d42-e164504d8075"
      },
      "execution_count": 35,
      "outputs": [
        {
          "output_type": "stream",
          "name": "stdout",
          "text": [
            "max_samples=0.3: MSE = 0.2816\n",
            "max_samples=0.5: MSE = 0.2633\n",
            "max_samples=0.7: MSE = 0.2621\n",
            "max_samples=1.0: MSE = 0.2579\n"
          ]
        },
        {
          "output_type": "display_data",
          "data": {
            "text/plain": [
              "<Figure size 640x480 with 1 Axes>"
            ],
            "image/png": "[encoded data removed]"
          },
          "metadata": {}
        }
      ]
    },
    {
      "cell_type": "code",
      "source": [],
      "metadata": {
        "id": "pxCilUVVbWZb"
      },
      "execution_count": null,
      "outputs": []
    }
  ]
}